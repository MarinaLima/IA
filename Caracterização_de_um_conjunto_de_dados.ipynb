{
  "nbformat": 4,
  "nbformat_minor": 0,
  "metadata": {
    "colab": {
      "provenance": [],
      "authorship_tag": "ABX9TyNdoRZNsG78i7hUyq57t9Yw",
      "include_colab_link": true
    },
    "kernelspec": {
      "name": "python3",
      "display_name": "Python 3"
    },
    "language_info": {
      "name": "python"
    }
  },
  "cells": [
    {
      "cell_type": "markdown",
      "metadata": {
        "id": "view-in-github",
        "colab_type": "text"
      },
      "source": [
        "<a href=\"https://colab.research.google.com/github/MarinaLima/IA/blob/master/Caracteriza%C3%A7%C3%A3o_de_um_conjunto_de_dados.ipynb\" target=\"_parent\"><img src=\"https://colab.research.google.com/assets/colab-badge.svg\" alt=\"Open In Colab\"/></a>"
      ]
    },
    {
      "cell_type": "markdown",
      "source": [
        "# a) Identifique os tipos de atributos (contínuos , discretos, binários (simétricos ou assimétricos), categóricos (nominais ou ordinais)). Esta classificação deve ser feita e explicada manualmente."
      ],
      "metadata": {
        "id": "e8rwXfSEkq15"
      }
    },
    {
      "cell_type": "code",
      "source": [
        "import pandas as pd\n",
        "\n",
        "# lendo os dados\n",
        "train_data = pd.read_csv ('train.csv')\n",
        "test_data = pd.read_csv ('test.csv')\n",
        "\n",
        "# concatenando dados de treino e teste\n",
        "# data = pd.concat([test_data, train_data])\n",
        "data = train_data\n",
        "print(data)\n"
      ],
      "metadata": {
        "colab": {
          "base_uri": "https://localhost:8080/"
        },
        "id": "YNKyTK6KuNMI",
        "outputId": "3132c38f-e3bc-48a1-b8bf-74eb895bf7b5"
      },
      "execution_count": null,
      "outputs": [
        {
          "output_type": "stream",
          "name": "stdout",
          "text": [
            "     PassengerId  Survived  Pclass  \\\n",
            "0              1         0       3   \n",
            "1              2         1       1   \n",
            "2              3         1       3   \n",
            "3              4         1       1   \n",
            "4              5         0       3   \n",
            "..           ...       ...     ...   \n",
            "886          887         0       2   \n",
            "887          888         1       1   \n",
            "888          889         0       3   \n",
            "889          890         1       1   \n",
            "890          891         0       3   \n",
            "\n",
            "                                                  Name     Sex   Age  SibSp  \\\n",
            "0                              Braund, Mr. Owen Harris    male  22.0      1   \n",
            "1    Cumings, Mrs. John Bradley (Florence Briggs Th...  female  38.0      1   \n",
            "2                               Heikkinen, Miss. Laina  female  26.0      0   \n",
            "3         Futrelle, Mrs. Jacques Heath (Lily May Peel)  female  35.0      1   \n",
            "4                             Allen, Mr. William Henry    male  35.0      0   \n",
            "..                                                 ...     ...   ...    ...   \n",
            "886                              Montvila, Rev. Juozas    male  27.0      0   \n",
            "887                       Graham, Miss. Margaret Edith  female  19.0      0   \n",
            "888           Johnston, Miss. Catherine Helen \"Carrie\"  female   NaN      1   \n",
            "889                              Behr, Mr. Karl Howell    male  26.0      0   \n",
            "890                                Dooley, Mr. Patrick    male  32.0      0   \n",
            "\n",
            "     Parch            Ticket     Fare Cabin Embarked  \n",
            "0        0         A/5 21171   7.2500   NaN        S  \n",
            "1        0          PC 17599  71.2833   C85        C  \n",
            "2        0  STON/O2. 3101282   7.9250   NaN        S  \n",
            "3        0            113803  53.1000  C123        S  \n",
            "4        0            373450   8.0500   NaN        S  \n",
            "..     ...               ...      ...   ...      ...  \n",
            "886      0            211536  13.0000   NaN        S  \n",
            "887      0            112053  30.0000   B42        S  \n",
            "888      2        W./C. 6607  23.4500   NaN        S  \n",
            "889      0            111369  30.0000  C148        C  \n",
            "890      0            370376   7.7500   NaN        Q  \n",
            "\n",
            "[891 rows x 12 columns]\n"
          ]
        }
      ]
    },
    {
      "cell_type": "markdown",
      "source": [
        "Atributos:\n",
        " \n",
        "*   Survival: categórico binário assimétrico, pois identifica um caso para cada estado, onde 0 indica que o passageiro não sobreviveu e 1 que sobreviveu e os valores não são igualmente importantes.\n",
        "*   Pclass: categórico ordinal, pois representam uma categoria e indica ordem das classes 1 > 2 > 3\n",
        "*   Name:\n",
        "*   Sex: categórico binário simétrico, pois ambos os valores são igualmente importantes. \n",
        "*   Age: variável quantitativa contínua, pois considera anos não inteiros, como 34.5\n",
        "*   SibSp: variável quantitativa discreta, pois tem valores finitos\n",
        "*   Parch: variável quantitativa discreta, pois tem valores finitos\n",
        "*   Ticket:\n",
        "*   Fare: variável quantitativa contínua\n",
        "*   Cabin: \n",
        "*   Embarked: categórico nominal, pois representam uma categoria e a ordem não importa."
      ],
      "metadata": {
        "id": "EaLhsGzAaBBk"
      }
    },
    {
      "cell_type": "markdown",
      "source": [
        "# b) Para atributo numérico, identifique qual o seu intervalo de valores, valor médio, máximo, mínimo, desvio-padrão e valores aberrantes. Use funções do dataframe para isso (por exemplo, describe, mean, sum ,...). Faça gráficos estilo boxplots para visualizar os possíveis outliers. Comente os resultados."
      ],
      "metadata": {
        "id": "GgnCQIl6t5Qx"
      }
    },
    {
      "cell_type": "code",
      "source": [
        "# pega apenas as colunas numéricas\n",
        "data_num = data[['Age', 'SibSp', 'Parch', 'Fare']]\n",
        "\n",
        "# std = desvio padrão\n",
        "print(data_num.describe())"
      ],
      "metadata": {
        "colab": {
          "base_uri": "https://localhost:8080/"
        },
        "id": "05efjn-nzNjp",
        "outputId": "197073b7-25ad-4251-f289-791a2e9c4aeb"
      },
      "execution_count": null,
      "outputs": [
        {
          "output_type": "stream",
          "name": "stdout",
          "text": [
            "              Age       SibSp       Parch        Fare\n",
            "count  714.000000  891.000000  891.000000  891.000000\n",
            "mean    29.699118    0.523008    0.381594   32.204208\n",
            "std     14.526497    1.102743    0.806057   49.693429\n",
            "min      0.420000    0.000000    0.000000    0.000000\n",
            "25%     20.125000    0.000000    0.000000    7.910400\n",
            "50%     28.000000    0.000000    0.000000   14.454200\n",
            "75%     38.000000    1.000000    0.000000   31.000000\n",
            "max     80.000000    8.000000    6.000000  512.329200\n"
          ]
        }
      ]
    },
    {
      "cell_type": "code",
      "source": [
        "import matplotlib.pyplot as plt\n",
        "\n",
        "# boxplot para idade\n",
        "b_plot = data.boxplot(column='Age')\n",
        "b_plot.plot() \n",
        "plt.title('Age boxplot')\n",
        "plt.show()"
      ],
      "metadata": {
        "colab": {
          "base_uri": "https://localhost:8080/",
          "height": 281
        },
        "id": "G9NyeViT1luE",
        "outputId": "7412dec9-afdc-429d-ebc4-71c9f0d4008a"
      },
      "execution_count": null,
      "outputs": [
        {
          "output_type": "display_data",
          "data": {
            "text/plain": [
              "<Figure size 432x288 with 1 Axes>"
            ],
            "image/png": "[encoded data removed]"
          },
          "metadata": {
            "needs_background": "light"
          }
        }
      ]
    },
    {
      "cell_type": "markdown",
      "source": [
        "Os valores de idade tem grande variação e uma leve assimetria positiva. Percebemos que a metade dos  passageiros tinham entre 21 e 39 anos e visualizamos valores discrepantes acima do limite superior."
      ],
      "metadata": {
        "id": "YtPjro6eS42m"
      }
    },
    {
      "cell_type": "markdown",
      "source": [],
      "metadata": {
        "id": "6frEX6TiQJKR"
      }
    },
    {
      "cell_type": "code",
      "source": [
        "# boxplot para número de SibSp\n",
        "b_plot = data.boxplot(column='SibSp')\n",
        "b_plot.plot() \n",
        "plt.title('SibSp boxplot')\n",
        "plt.show()\n"
      ],
      "metadata": {
        "colab": {
          "base_uri": "https://localhost:8080/",
          "height": 281
        },
        "id": "eFWti_rXPqS1",
        "outputId": "cc5322cc-62f3-4b43-9cf4-d49066043199"
      },
      "execution_count": null,
      "outputs": [
        {
          "output_type": "display_data",
          "data": {
            "text/plain": [
              "<Figure size 432x288 with 1 Axes>"
            ],
            "image/png": "[encoded data removed]"
          },
          "metadata": {
            "needs_background": "light"
          }
        }
      ]
    },
    {
      "cell_type": "markdown",
      "source": [
        "A quantidade de irmãos e esposas/esposos por passageiros tem pouca variação e possui uma grande assimetria positiva, onde a mediana coincide com o quartil inferior. Percebemos poucos valores discrepantes."
      ],
      "metadata": {
        "id": "D7C6c1thVuTv"
      }
    },
    {
      "cell_type": "code",
      "source": [
        "# boxplot para número de Parch\n",
        "b_plot = data.boxplot(column='Parch')\n",
        "b_plot.plot() \n",
        "plt.title('Parch boxplot')\n",
        "plt.show()\n"
      ],
      "metadata": {
        "colab": {
          "base_uri": "https://localhost:8080/",
          "height": 281
        },
        "id": "aN6cG8WiPwLj",
        "outputId": "20530fe2-64a4-4a98-d833-c118b11632ee"
      },
      "execution_count": null,
      "outputs": [
        {
          "output_type": "display_data",
          "data": {
            "text/plain": [
              "<Figure size 432x288 with 1 Axes>"
            ],
            "image/png": "[encoded data removed]"
          },
          "metadata": {
            "needs_background": "light"
          }
        }
      ]
    },
    {
      "cell_type": "markdown",
      "source": [
        "A quantidade de pais e filhos por passageiros tem pouca variação e percebemos que 75% dos passageiros estava sem nenhum parente dessa categoria. Percebemos valores discrepantes."
      ],
      "metadata": {
        "id": "8Hf-JnHBWOa6"
      }
    },
    {
      "cell_type": "code",
      "source": [
        "# boxplot para o valor da passagen\n",
        "b_plot = data.boxplot(column='Fare')\n",
        "b_plot.plot() \n",
        "plt.title('Fare boxplot')\n",
        "plt.show()"
      ],
      "metadata": {
        "colab": {
          "base_uri": "https://localhost:8080/",
          "height": 281
        },
        "id": "Kce-58vsPzX8",
        "outputId": "6d0fda2c-7fef-4200-b475-2469b0a4ef03"
      },
      "execution_count": null,
      "outputs": [
        {
          "output_type": "display_data",
          "data": {
            "text/plain": [
              "<Figure size 432x288 with 1 Axes>"
            ],
            "image/png": "[encoded data removed]"
          },
          "metadata": {
            "needs_background": "light"
          }
        }
      ]
    },
    {
      "cell_type": "markdown",
      "source": [
        "Os valores da tarifa tem grande variação, uma assimetria positiva e bastante valores discrepantes. Percebemos que a maioria dos passageiros pagaram valores bem baixos e a frequência de discrepância diminui à medida que os valores aumentam."
      ],
      "metadata": {
        "id": "h-6KvRghXMUw"
      }
    },
    {
      "cell_type": "markdown",
      "source": [
        "# c) Para os atributos binários, nominais e ordinais, indique quais os valores possíveis e a popularidade (distribuição de probabilidade) de cada."
      ],
      "metadata": {
        "id": "EzTUBkVQYe60"
      }
    },
    {
      "cell_type": "code",
      "source": [
        "# gráfico para sobrevivência\n",
        "b_plot = data['Survived'].value_counts()\n",
        "b_plot.plot(kind='pie', autopct='%1.2f%%')\n",
        "plt.title('Survived plot')\n",
        "plt.show()"
      ],
      "metadata": {
        "colab": {
          "base_uri": "https://localhost:8080/",
          "height": 264
        },
        "id": "0TKv4KWhaze1",
        "outputId": "6725ec49-51fc-4703-ffbf-28caafb1336d"
      },
      "execution_count": null,
      "outputs": [
        {
          "output_type": "display_data",
          "data": {
            "text/plain": [
              "<Figure size 432x288 with 1 Axes>"
            ],
            "image/png": "[encoded data removed]"
          },
          "metadata": {}
        }
      ]
    },
    {
      "cell_type": "markdown",
      "source": [],
      "metadata": {
        "id": "ejyM7TU5dcuq"
      }
    },
    {
      "cell_type": "markdown",
      "source": [
        "Para o parâmetro de sobrevivência temos dois valores possíveis, 1 se a pessoa sobreviveu, 0 se não. Percebemos que a maioria não sobreviveu. \n"
      ],
      "metadata": {
        "id": "IHBBU_GmZwfJ"
      }
    },
    {
      "cell_type": "code",
      "source": [
        "# gráfico para Classe da passagem\n",
        "b_plot = data['Pclass'].value_counts()\n",
        "b_plot.plot(kind='pie', autopct='%1.2f%%')\n",
        "plt.title('Pclass plot')\n",
        "plt.show()"
      ],
      "metadata": {
        "colab": {
          "base_uri": "https://localhost:8080/",
          "height": 264
        },
        "id": "PEmel9Ejdw0S",
        "outputId": "3a282230-eccb-4737-d34d-1697ce3b2091"
      },
      "execution_count": null,
      "outputs": [
        {
          "output_type": "display_data",
          "data": {
            "text/plain": [
              "<Figure size 432x288 with 1 Axes>"
            ],
            "image/png": "[encoded data removed]"
          },
          "metadata": {}
        }
      ]
    },
    {
      "cell_type": "markdown",
      "source": [
        "Para classe das passagens dos passageiros temos três valores possíveis [1, 2, 3], onde 1 indica a classe mais alta e 3 a classe mais baixa. Percebemos que a maioria dos passageiros se encontram na terceira classe. "
      ],
      "metadata": {
        "id": "rqEKJXfzecHc"
      }
    },
    {
      "cell_type": "code",
      "source": [
        "# gráfico para sexo\n",
        "b_plot = data['Sex'].value_counts()\n",
        "b_plot.plot(kind='pie', autopct='%1.2f%%')\n",
        "plt.title('Sex plot')\n",
        "plt.show()"
      ],
      "metadata": {
        "colab": {
          "base_uri": "https://localhost:8080/",
          "height": 264
        },
        "id": "30ylQbjqg7Jw",
        "outputId": "f8bc388c-9be6-4286-ace0-525946dfd98e"
      },
      "execution_count": null,
      "outputs": [
        {
          "output_type": "display_data",
          "data": {
            "text/plain": [
              "<Figure size 432x288 with 1 Axes>"
            ],
            "image/png": "[encoded data removed]"
          },
          "metadata": {}
        }
      ]
    },
    {
      "cell_type": "markdown",
      "source": [
        "Para variável sexo temos duas opções de valores [male, female], percebemos que a maioria dos passageiros eram homens. "
      ],
      "metadata": {
        "id": "uWJ_x5_OhaQR"
      }
    },
    {
      "cell_type": "code",
      "source": [
        "# gráfico para porta de embarque\n",
        "b_plot = data['Embarked'].value_counts()\n",
        "b_plot.plot(kind='pie', autopct='%1.2f%%') \n",
        "plt.title('Embarked plot')\n",
        "plt.show()"
      ],
      "metadata": {
        "colab": {
          "base_uri": "https://localhost:8080/",
          "height": 264
        },
        "id": "e5T6xoMihasc",
        "outputId": "78c596cc-d6c6-4af9-ddbf-87188f378cc2"
      },
      "execution_count": null,
      "outputs": [
        {
          "output_type": "display_data",
          "data": {
            "text/plain": [
              "<Figure size 432x288 with 1 Axes>"
            ],
            "image/png": "[encoded data removed]"
          },
          "metadata": {}
        }
      ]
    },
    {
      "cell_type": "markdown",
      "source": [
        "Temos três opções de portões de embarque [C = Cherbourg, Q = Queenstown, S = Southampton], pelo gráfico percebemos que a grande maioria dos passageiros embarcaram pelo portão de Southmpton, enquanto uma pequena parcela entrou por Cherbourg."
      ],
      "metadata": {
        "id": "-KwOp-elhDbk"
      }
    },
    {
      "cell_type": "markdown",
      "source": [
        "# d) Identifique os valores ausentes (isna ou isnull), aberrantes e inconsistências."
      ],
      "metadata": {
        "id": "X8QKKTKFkZY_"
      }
    },
    {
      "cell_type": "code",
      "source": [
        "# identificando quantidade de valores nulos em cada coluna\n",
        "data.isna().sum()"
      ],
      "metadata": {
        "colab": {
          "base_uri": "https://localhost:8080/"
        },
        "id": "klwLsAfXl6Hc",
        "outputId": "7a249c5e-c05f-46e8-dc17-cb402f851dec"
      },
      "execution_count": null,
      "outputs": [
        {
          "output_type": "execute_result",
          "data": {
            "text/plain": [
              "PassengerId      0\n",
              "Survived         0\n",
              "Pclass           0\n",
              "Name             0\n",
              "Sex              0\n",
              "Age            177\n",
              "SibSp            0\n",
              "Parch            0\n",
              "Ticket           0\n",
              "Fare             0\n",
              "Cabin          687\n",
              "Embarked         2\n",
              "dtype: int64"
            ]
          },
          "metadata": {},
          "execution_count": 12
        }
      ]
    },
    {
      "cell_type": "markdown",
      "source": [
        "Temos 177 valores nulos para Idade, 687 para Cabine e 2 para local de embarque."
      ],
      "metadata": {
        "id": "L3BC5FpuwZGe"
      }
    },
    {
      "cell_type": "code",
      "source": [
        "# linhas com valores ausentes\n",
        "data[data.isnull().any(axis=1)]"
      ],
      "metadata": {
        "colab": {
          "base_uri": "https://localhost:8080/",
          "height": 870
        },
        "id": "BswGoj3LmjNB",
        "outputId": "aac0e00e-c4d2-48cf-9ed4-5310962d9b79"
      },
      "execution_count": null,
      "outputs": [
        {
          "output_type": "execute_result",
          "data": {
            "text/plain": [
              "     PassengerId  Survived  Pclass                                      Name  \\\n",
              "0              1         0       3                   Braund, Mr. Owen Harris   \n",
              "2              3         1       3                    Heikkinen, Miss. Laina   \n",
              "4              5         0       3                  Allen, Mr. William Henry   \n",
              "5              6         0       3                          Moran, Mr. James   \n",
              "7              8         0       3            Palsson, Master. Gosta Leonard   \n",
              "..           ...       ...     ...                                       ...   \n",
              "884          885         0       3                    Sutehall, Mr. Henry Jr   \n",
              "885          886         0       3      Rice, Mrs. William (Margaret Norton)   \n",
              "886          887         0       2                     Montvila, Rev. Juozas   \n",
              "888          889         0       3  Johnston, Miss. Catherine Helen \"Carrie\"   \n",
              "890          891         0       3                       Dooley, Mr. Patrick   \n",
              "\n",
              "        Sex   Age  SibSp  Parch            Ticket     Fare Cabin Embarked  \n",
              "0      male  22.0      1      0         A/5 21171   7.2500   NaN        S  \n",
              "2    female  26.0      0      0  STON/O2. 3101282   7.9250   NaN        S  \n",
              "4      male  35.0      0      0            373450   8.0500   NaN        S  \n",
              "5      male   NaN      0      0            330877   8.4583   NaN        Q  \n",
              "7      male   2.0      3      1            349909  21.0750   NaN        S  \n",
              "..      ...   ...    ...    ...               ...      ...   ...      ...  \n",
              "884    male  25.0      0      0   SOTON/OQ 392076   7.0500   NaN        S  \n",
              "885  female  39.0      0      5            382652  29.1250   NaN        Q  \n",
              "886    male  27.0      0      0            211536  13.0000   NaN        S  \n",
              "888  female   NaN      1      2        W./C. 6607  23.4500   NaN        S  \n",
              "890    male  32.0      0      0            370376   7.7500   NaN        Q  \n",
              "\n",
              "[708 rows x 12 columns]"
            ],
            "text/html": [
              "\n",
              "  <div id=\"df-109af91c-d86c-48f2-bbf3-74098c3de5bf\">\n",
              "    <div class=\"colab-df-container\">\n",
              "      <div>\n",
              "<style scoped>\n",
              "    .dataframe tbody tr th:only-of-type {\n",
              "        vertical-align: middle;\n",
              "    }\n",
              "\n",
              "    .dataframe tbody tr th {\n",
              "        vertical-align: top;\n",
              "    }\n",
              "\n",
              "    .dataframe thead th {\n",
              "        text-align: right;\n",
              "    }\n",
              "</style>\n",
              "<table border=\"1\" class=\"dataframe\">\n",
              "  <thead>\n",
              "    <tr style=\"text-align: right;\">\n",
              "      <th></th>\n",
              "      <th>PassengerId</th>\n",
              "      <th>Survived</th>\n",
              "      <th>Pclass</th>\n",
              "      <th>Name</th>\n",
              "      <th>Sex</th>\n",
              "      <th>Age</th>\n",
              "      <th>SibSp</th>\n",
              "      <th>Parch</th>\n",
              "      <th>Ticket</th>\n",
              "      <th>Fare</th>\n",
              "      <th>Cabin</th>\n",
              "      <th>Embarked</th>\n",
              "    </tr>\n",
              "  </thead>\n",
              "  <tbody>\n",
              "    <tr>\n",
              "      <th>0</th>\n",
              "      <td>1</td>\n",
              "      <td>0</td>\n",
              "      <td>3</td>\n",
              "      <td>Braund, Mr. Owen Harris</td>\n",
              "      <td>male</td>\n",
              "      <td>22.0</td>\n",
              "      <td>1</td>\n",
              "      <td>0</td>\n",
              "      <td>A/5 21171</td>\n",
              "      <td>7.2500</td>\n",
              "      <td>NaN</td>\n",
              "      <td>S</td>\n",
              "    </tr>\n",
              "    <tr>\n",
              "      <th>2</th>\n",
              "      <td>3</td>\n",
              "      <td>1</td>\n",
              "      <td>3</td>\n",
              "      <td>Heikkinen, Miss. Laina</td>\n",
              "      <td>female</td>\n",
              "      <td>26.0</td>\n",
              "      <td>0</td>\n",
              "      <td>0</td>\n",
              "      <td>STON/O2. 3101282</td>\n",
              "      <td>7.9250</td>\n",
              "      <td>NaN</td>\n",
              "      <td>S</td>\n",
              "    </tr>\n",
              "    <tr>\n",
              "      <th>4</th>\n",
              "      <td>5</td>\n",
              "      <td>0</td>\n",
              "      <td>3</td>\n",
              "      <td>Allen, Mr. William Henry</td>\n",
              "      <td>male</td>\n",
              "      <td>35.0</td>\n",
              "      <td>0</td>\n",
              "      <td>0</td>\n",
              "      <td>373450</td>\n",
              "      <td>8.0500</td>\n",
              "      <td>NaN</td>\n",
              "      <td>S</td>\n",
              "    </tr>\n",
              "    <tr>\n",
              "      <th>5</th>\n",
              "      <td>6</td>\n",
              "      <td>0</td>\n",
              "      <td>3</td>\n",
              "      <td>Moran, Mr. James</td>\n",
              "      <td>male</td>\n",
              "      <td>NaN</td>\n",
              "      <td>0</td>\n",
              "      <td>0</td>\n",
              "      <td>330877</td>\n",
              "      <td>8.4583</td>\n",
              "      <td>NaN</td>\n",
              "      <td>Q</td>\n",
              "    </tr>\n",
              "    <tr>\n",
              "      <th>7</th>\n",
              "      <td>8</td>\n",
              "      <td>0</td>\n",
              "      <td>3</td>\n",
              "      <td>Palsson, Master. Gosta Leonard</td>\n",
              "      <td>male</td>\n",
              "      <td>2.0</td>\n",
              "      <td>3</td>\n",
              "      <td>1</td>\n",
              "      <td>349909</td>\n",
              "      <td>21.0750</td>\n",
              "      <td>NaN</td>\n",
              "      <td>S</td>\n",
              "    </tr>\n",
              "    <tr>\n",
              "      <th>...</th>\n",
              "      <td>...</td>\n",
              "      <td>...</td>\n",
              "      <td>...</td>\n",
              "      <td>...</td>\n",
              "      <td>...</td>\n",
              "      <td>...</td>\n",
              "      <td>...</td>\n",
              "      <td>...</td>\n",
              "      <td>...</td>\n",
              "      <td>...</td>\n",
              "      <td>...</td>\n",
              "      <td>...</td>\n",
              "    </tr>\n",
              "    <tr>\n",
              "      <th>884</th>\n",
              "      <td>885</td>\n",
              "      <td>0</td>\n",
              "      <td>3</td>\n",
              "      <td>Sutehall, Mr. Henry Jr</td>\n",
              "      <td>male</td>\n",
              "      <td>25.0</td>\n",
              "      <td>0</td>\n",
              "      <td>0</td>\n",
              "      <td>SOTON/OQ 392076</td>\n",
              "      <td>7.0500</td>\n",
              "      <td>NaN</td>\n",
              "      <td>S</td>\n",
              "    </tr>\n",
              "    <tr>\n",
              "      <th>885</th>\n",
              "      <td>886</td>\n",
              "      <td>0</td>\n",
              "      <td>3</td>\n",
              "      <td>Rice, Mrs. William (Margaret Norton)</td>\n",
              "      <td>female</td>\n",
              "      <td>39.0</td>\n",
              "      <td>0</td>\n",
              "      <td>5</td>\n",
              "      <td>382652</td>\n",
              "      <td>29.1250</td>\n",
              "      <td>NaN</td>\n",
              "      <td>Q</td>\n",
              "    </tr>\n",
              "    <tr>\n",
              "      <th>886</th>\n",
              "      <td>887</td>\n",
              "      <td>0</td>\n",
              "      <td>2</td>\n",
              "      <td>Montvila, Rev. Juozas</td>\n",
              "      <td>male</td>\n",
              "      <td>27.0</td>\n",
              "      <td>0</td>\n",
              "      <td>0</td>\n",
              "      <td>211536</td>\n",
              "      <td>13.0000</td>\n",
              "      <td>NaN</td>\n",
              "      <td>S</td>\n",
              "    </tr>\n",
              "    <tr>\n",
              "      <th>888</th>\n",
              "      <td>889</td>\n",
              "      <td>0</td>\n",
              "      <td>3</td>\n",
              "      <td>Johnston, Miss. Catherine Helen \"Carrie\"</td>\n",
              "      <td>female</td>\n",
              "      <td>NaN</td>\n",
              "      <td>1</td>\n",
              "      <td>2</td>\n",
              "      <td>W./C. 6607</td>\n",
              "      <td>23.4500</td>\n",
              "      <td>NaN</td>\n",
              "      <td>S</td>\n",
              "    </tr>\n",
              "    <tr>\n",
              "      <th>890</th>\n",
              "      <td>891</td>\n",
              "      <td>0</td>\n",
              "      <td>3</td>\n",
              "      <td>Dooley, Mr. Patrick</td>\n",
              "      <td>male</td>\n",
              "      <td>32.0</td>\n",
              "      <td>0</td>\n",
              "      <td>0</td>\n",
              "      <td>370376</td>\n",
              "      <td>7.7500</td>\n",
              "      <td>NaN</td>\n",
              "      <td>Q</td>\n",
              "    </tr>\n",
              "  </tbody>\n",
              "</table>\n",
              "<p>708 rows × 12 columns</p>\n",
              "</div>\n",
              "      <button class=\"colab-df-convert\" onclick=\"convertToInteractive('df-109af91c-d86c-48f2-bbf3-74098c3de5bf')\"\n",
              "              title=\"Convert this dataframe to an interactive table.\"\n",
              "              style=\"display:none;\">\n",
              "        \n",
              "  <svg xmlns=\"http://www.w3.org/2000/svg\" height=\"24px\"viewBox=\"0 0 24 24\"\n",
              "       width=\"24px\">\n",
              "    <path d=\"M0 0h24v24H0V0z\" fill=\"none\"/>\n",
              "    <path d=\"M18.56 5.44l.94 2.06.94-2.06 2.06-.94-2.06-.94-.94-2.06-.94 2.06-2.06.94zm-11 1L8.5 8.5l.94-2.06 2.06-.94-2.06-.94L8.5 2.5l-.94 2.06-2.06.94zm10 10l.94 2.06.94-2.06 2.06-.94-2.06-.94-.94-2.06-.94 2.06-2.06.94z\"/><path d=\"M17.41 7.96l-1.37-1.37c-.4-.4-.92-.59-1.43-.59-.52 0-1.04.2-1.43.59L10.3 9.45l-7.72 7.72c-.78.78-.78 2.05 0 2.83L4 21.41c.39.39.9.59 1.41.59.51 0 1.02-.2 1.41-.59l7.78-7.78 2.81-2.81c.8-.78.8-2.07 0-2.86zM5.41 20L4 18.59l7.72-7.72 1.47 1.35L5.41 20z\"/>\n",
              "  </svg>\n",
              "      </button>\n",
              "      \n",
              "  <style>\n",
              "    .colab-df-container {\n",
              "      display:flex;\n",
              "      flex-wrap:wrap;\n",
              "      gap: 12px;\n",
              "    }\n",
              "\n",
              "    .colab-df-convert {\n",
              "      background-color: #E8F0FE;\n",
              "      border: none;\n",
              "      border-radius: 50%;\n",
              "      cursor: pointer;\n",
              "      display: none;\n",
              "      fill: #1967D2;\n",
              "      height: 32px;\n",
              "      padding: 0 0 0 0;\n",
              "      width: 32px;\n",
              "    }\n",
              "\n",
              "    .colab-df-convert:hover {\n",
              "      background-color: #E2EBFA;\n",
              "      box-shadow: 0px 1px 2px rgba(60, 64, 67, 0.3), 0px 1px 3px 1px rgba(60, 64, 67, 0.15);\n",
              "      fill: #174EA6;\n",
              "    }\n",
              "\n",
              "    [theme=dark] .colab-df-convert {\n",
              "      background-color: #3B4455;\n",
              "      fill: #D2E3FC;\n",
              "    }\n",
              "\n",
              "    [theme=dark] .colab-df-convert:hover {\n",
              "      background-color: #434B5C;\n",
              "      box-shadow: 0px 1px 3px 1px rgba(0, 0, 0, 0.15);\n",
              "      filter: drop-shadow(0px 1px 2px rgba(0, 0, 0, 0.3));\n",
              "      fill: #FFFFFF;\n",
              "    }\n",
              "  </style>\n",
              "\n",
              "      <script>\n",
              "        const buttonEl =\n",
              "          document.querySelector('#df-109af91c-d86c-48f2-bbf3-74098c3de5bf button.colab-df-convert');\n",
              "        buttonEl.style.display =\n",
              "          google.colab.kernel.accessAllowed ? 'block' : 'none';\n",
              "\n",
              "        async function convertToInteractive(key) {\n",
              "          const element = document.querySelector('#df-109af91c-d86c-48f2-bbf3-74098c3de5bf');\n",
              "          const dataTable =\n",
              "            await google.colab.kernel.invokeFunction('convertToInteractive',\n",
              "                                                     [key], {});\n",
              "          if (!dataTable) return;\n",
              "\n",
              "          const docLinkHtml = 'Like what you see? Visit the ' +\n",
              "            '<a target=\"_blank\" href=https://colab.research.google.com/notebooks/data_table.ipynb>data table notebook</a>'\n",
              "            + ' to learn more about interactive tables.';\n",
              "          element.innerHTML = '';\n",
              "          dataTable['output_type'] = 'display_data';\n",
              "          await google.colab.output.renderOutput(dataTable, element);\n",
              "          const docLink = document.createElement('div');\n",
              "          docLink.innerHTML = docLinkHtml;\n",
              "          element.appendChild(docLink);\n",
              "        }\n",
              "      </script>\n",
              "    </div>\n",
              "  </div>\n",
              "  "
            ]
          },
          "metadata": {},
          "execution_count": 13
        }
      ]
    },
    {
      "cell_type": "code",
      "source": [
        "# identificando inconsistências nas variáveis categóricas\n",
        "\n",
        "# identificando inconsistências na coluna Survived\n",
        "check_list = [0,1]\n",
        "df = data['Survived'].dropna()\n",
        "print(df[~df.isin(check_list)])\n",
        "\n",
        "# identificando inconsistências na coluna Sex\n",
        "check_list = [\"male\", \"female\"]\n",
        "df = data['Sex'].dropna()\n",
        "print(df[~df.isin(check_list)])\n",
        "\n",
        "# identificando inconsistências na coluna Pclass\n",
        "check_list = [1,2,3]\n",
        "df = data['Pclass'].dropna()\n",
        "print(df[~df.isin(check_list)])\n",
        "\n",
        "# identificando inconsistências na coluna Embarked\n",
        "check_list = [\"C\", \"Q\", \"S\"]\n",
        "df = data['Embarked'].dropna()\n",
        "print(df[~df.isin(check_list)])"
      ],
      "metadata": {
        "colab": {
          "base_uri": "https://localhost:8080/"
        },
        "id": "Pc1j6MfMqll3",
        "outputId": "dd842664-35ad-4ba5-ed3c-1c015c527edc"
      },
      "execution_count": null,
      "outputs": [
        {
          "output_type": "stream",
          "name": "stdout",
          "text": [
            "Series([], Name: Survived, dtype: int64)\n",
            "Series([], Name: Sex, dtype: object)\n",
            "Series([], Name: Pclass, dtype: int64)\n",
            "Series([], Name: Embarked, dtype: object)\n"
          ]
        }
      ]
    },
    {
      "cell_type": "markdown",
      "source": [
        "Não há valores inconsistêntes para as variáveis categóricas."
      ],
      "metadata": {
        "id": "842Ivfestbhe"
      }
    },
    {
      "cell_type": "code",
      "source": [
        "# identificando inconsistências nas variáveis numéricas\n",
        "from pandas.api.types import is_numeric_dtype\n",
        "\n",
        "# identificando se os valores são numéricos e não negativos\n",
        "df = data['Age'].dropna()\n",
        "print(is_numeric_dtype(df))\n",
        "print((df.values >= 0).any())\n",
        "\n",
        "df = data['SibSp'].dropna()\n",
        "print(is_numeric_dtype(df))\n",
        "print((df.values >= 0).any())\n",
        "\n",
        "df = data['Parch'].dropna()\n",
        "print(is_numeric_dtype(df))\n",
        "print((df.values >= 0).any())\n",
        "\n",
        "df = data['Parch'].dropna()\n",
        "print(is_numeric_dtype(df))\n",
        "print((df.values >= 0).any())"
      ],
      "metadata": {
        "colab": {
          "base_uri": "https://localhost:8080/"
        },
        "id": "a_mOKXXdtrsR",
        "outputId": "e482ff2d-c999-4130-d67e-048b0c7d00db"
      },
      "execution_count": null,
      "outputs": [
        {
          "output_type": "stream",
          "name": "stdout",
          "text": [
            "True\n",
            "True\n",
            "True\n",
            "True\n",
            "True\n",
            "True\n",
            "True\n",
            "True\n"
          ]
        }
      ]
    },
    {
      "cell_type": "markdown",
      "source": [
        "Os valores numéricos estão consistêntes, todos os valores não nulos são numéricos e positivos."
      ],
      "metadata": {
        "id": "4RIZl9Nb0b35"
      }
    },
    {
      "cell_type": "markdown",
      "source": [
        "# e) Verifique e comente a correlação entre os atributos numéricos (corr).#\n",
        "    Correlação positiva: quando duas variáveis que possuem correlação crescem ou decrescem juntas, ou seja, que possuem uma relação direta;\n",
        "    Correlação negativa: quando duas variáveis que possuem correlação mas quando uma variável cresce a outra decresce, ou vice-versa;\n",
        "    Não ter correlação: quando o crescimento ou decrescimento de uma variável não tem efeito sobre outra variável.\n",
        "\n",
        "    ρ = 0,9 a 1 (positivo ou negativo): correlação muito forte;\n",
        "    ρ = 0,7 a 09 (positivo ou negativo): correlação forte;\n",
        "    ρ = 0,5 a 0,7 (positivo ou negativo): correlação moderada;\n",
        "    ρ = 0,3 a 0,5 (positivo ou negativo): correlação fraca;\n",
        "    ρ = 0 a 0,3 (positivo ou negativo): não possui correlação."
      ],
      "metadata": {
        "id": "Ajb6tV0S0wX4"
      }
    },
    {
      "cell_type": "code",
      "source": [
        "import seaborn as sn\n",
        "\n",
        "# análise de correlaçã\n",
        "correlation = data_num.corr()\n",
        "print(correlation)\n",
        "\n",
        "# plot da matriz de correlação\n",
        "plot = sn.heatmap(correlation, annot = True, linewidths=.6)\n",
        "plot"
      ],
      "metadata": {
        "colab": {
          "base_uri": "https://localhost:8080/",
          "height": 373
        },
        "id": "fPI1KCJ31JPk",
        "outputId": "2a52cf80-99f8-4d86-824e-811783e25acb"
      },
      "execution_count": null,
      "outputs": [
        {
          "output_type": "stream",
          "name": "stdout",
          "text": [
            "            Age     SibSp     Parch      Fare\n",
            "Age    1.000000 -0.308247 -0.189119  0.096067\n",
            "SibSp -0.308247  1.000000  0.414838  0.159651\n",
            "Parch -0.189119  0.414838  1.000000  0.216225\n",
            "Fare   0.096067  0.159651  0.216225  1.000000\n"
          ]
        },
        {
          "output_type": "execute_result",
          "data": {
            "text/plain": [
              "<matplotlib.axes._subplots.AxesSubplot at 0x7fa228f40d30>"
            ]
          },
          "metadata": {},
          "execution_count": 17
        },
        {
          "output_type": "display_data",
          "data": {
            "text/plain": [
              "<Figure size 432x288 with 2 Axes>"
            ],
            "image/png": "[encoded data removed]"
          },
          "metadata": {
            "needs_background": "light"
          }
        }
      ]
    },
    {
      "cell_type": "markdown",
      "source": [
        "Percebemos apenas uma fraca correlação entre número de parentes (Parch) e familiares (SibSp) e entre número de familiares (SibSp) e idade. "
      ],
      "metadata": {
        "id": "SvHEo2Hu2UaU"
      }
    }
  ]
}