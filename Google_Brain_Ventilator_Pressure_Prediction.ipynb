{
  "nbformat": 4,
  "nbformat_minor": 0,
  "metadata": {
    "colab": {
      "provenance": [],
      "authorship_tag": "ABX9TyPWDCJHfEYJa3nq9m22QStb",
      "include_colab_link": true
    },
    "kernelspec": {
      "name": "python3",
      "display_name": "Python 3"
    },
    "language_info": {
      "name": "python"
    }
  },
  "cells": [
    {
      "cell_type": "markdown",
      "metadata": {
        "id": "view-in-github",
        "colab_type": "text"
      },
      "source": [
        "<a href=\"https://colab.research.google.com/github/MarinaLima/IA/blob/master/Google_Brain_Ventilator_Pressure_Prediction.ipynb\" target=\"_parent\"><img src=\"https://colab.research.google.com/assets/colab-badge.svg\" alt=\"Open In Colab\"/></a>"
      ]
    },
    {
      "cell_type": "code",
      "source": [
        "# importando bibliotecas importantes\n",
        "import pandas as pd\n",
        "import matplotlib.pyplot as plt"
      ],
      "metadata": {
        "id": "mPngIrwf6Vqr"
      },
      "execution_count": 9,
      "outputs": []
    },
    {
      "cell_type": "markdown",
      "source": [
        "# Definição do problema a ser resolvido\n",
        "\n",
        "O objetivo deste trabalho é desenvolver ao longo da disciplina de Mineração de Dados uma solução para o desafio [Google Brain - Ventilator Pressure Prediction](https://www.kaggle.com/competitions/ventilator-pressure-prediction/data?select=sample_submission.csv). Para isso será apresentada uma abordagem de estudo, em que através de modelos previamente estabelecidos e algoritmos de aprendizado de máquina, será possível prever a pressão das vias aereas no circuito respiratório durante a respiração, dadas as séries temporais de entradas de controle.\n",
        "\n",
        "Quando um paciente tem dificuldade para respirar, os médicos utilizam um ventilador para bombear oxigênio para os pulmões de um paciente sedado por meio de um tubo na traqueia. Mas a ventilação mecânica é um procedimento clínico intensivo, uma limitação que foi exibida com destaque durante os primeiros dias da pandemia de COVID-19. Ao mesmo tempo, desenvolver novos métodos para controlar ventiladores mecânicos é proibitivamente caro e simuladores de alta qualidade podem reduzir essa barreira.\n",
        "\n",
        "Os simuladores atuais são treinados como um conjunto, onde cada modelo simula uma única configuração de pulmão. No entanto, os pulmões e seus atributos formam um espaço contínuo, portanto, uma abordagem paramétrica que considere as diferenças nos pulmões dos pacientes deve ser explorada que.\n",
        "\n",
        "Em parceria com a Universidade de Princeton, a equipe do Google Brain visa aumentar a comunidade em torno do aprendizado de máquina para controle de ventilação mecânica. Eles acreditam que as redes neurais e o aprendizado profundo podem generalizar melhor os pulmões com características variadas do que o padrão atual da indústria de controladores PID.\n",
        "\n",
        "Um bom resultado nessa simulação pode ajudar a superar a barreira de custo do desenvolvimento de novos métodos para controlar ventiladores mecânicos. Abrindo caminho para algoritmos que se adaptam aos pacientes e reduzem a carga dos médicos durante esses novos tempos. Como resultado, os tratamentos com ventiladores podem se tornar mais amplamente disponíveis para ajudar os pacientes a respirar.\n",
        "\n",
        "Além dos fatos já citado, uma outra motivação para escolha desse desafio em específico é o fato de eu ser dependente da ventilação mecânica não invasiva no meu dia a dia. Apesar desse trabalho focar em ventilação mecânica invasica, considerando que os pacientes estão sedados, bons resultados podem me beneficiar diretamente. \n",
        "\n",
        "\n"
      ],
      "metadata": {
        "id": "WE4wpH2znaxA"
      }
    },
    {
      "cell_type": "markdown",
      "source": [
        "# Análise dos dados\n",
        "\n",
        "Os dados de entrada são compostos por séries temporais, onde cada série representa uma respiração de aproximadamente 3 segundos. Os arquivos são organizados de forma que cada linha seja um intervalo de tempo em uma respiração e forneça os dois sinais de controle, a pressão resultante nas vias aéreas e os atributos relevantes do pulmão, conforme descrito abaixo:\n",
        "\n",
        "*  id: identificador de intervalo de tempo globalmente exclusivo em um arquivo inteiro.\n",
        "\n",
        "* breath_id: intervalo de tempo globalmente exclusivo para respirações.\n",
        "\n",
        "* R: atributo do pulmão que indica o quão restrita é a via aérea (em cmH2O/L/S). Fisicamente, esta é a mudança na pressão por mudança no fluxo (volume de ar por tempo). Intuitivamente, pode-se imaginar encher um balão com um canudo. Podemos alterar R alterando o diâmetro do canudo, com R maior sendo mais difícil de soprar.\n",
        "\n",
        "* C: atributo do pulmão que indica a complacência do pulmão (em mL/cmH2O). Fisicamente, esta é a mudança de volume por mudança de pressão. Intuitivamente, pode-se imaginar o mesmo exemplo de balão. Podemos alterar C alterando a espessura do látex do balão, com C mais alto tendo látex mais fino e mais fácil de soprar.\n",
        "\n",
        "* time_step: o carimbo de hora real.\n",
        "\n",
        "* u_in:  a entrada de controle para a válvula solenoide inspiratória. Varia de 0 a 100 % onde, 0 é completamente fechado e nenhum ar entra e 100 é completamente aberto.\n",
        "\n",
        "* u_out: a entrada de controle para a válvula solenoide exploratória. Se a válvula exploratória está aberta (1) ou fechada (0) para deixar o ar sair. \n",
        "\n",
        "* pressure: a pressão nas vias aéreas medida no circuito respiratório, medida em cmH2O.\n",
        "\n",
        "Dentre as variáveis conseguimos separá-las nas seguintes categorias:\n",
        "\n",
        "* Categóricas ordinais: R e C\n",
        "* Categórica binária: u_out\n",
        "* Numéricas contínuas: u_in e pressure\n",
        "\n"
      ],
      "metadata": {
        "id": "dutDA9Z6t_mE"
      }
    },
    {
      "cell_type": "code",
      "execution_count": 10,
      "metadata": {
        "colab": {
          "base_uri": "https://localhost:8080/"
        },
        "id": "OqD47endnRbI",
        "outputId": "0bfbd1de-2589-4a3f-8073-d3641130afc2"
      },
      "outputs": [
        {
          "output_type": "stream",
          "name": "stdout",
          "text": [
            "          id  breath_id   R     C  time_step       u_in  u_out   pressure\n",
            "0          1          1  20  50.0   0.000000   0.083334    0.0   5.837492\n",
            "1          2          1  20  50.0   0.033652  18.383041    0.0   5.907794\n",
            "2          3          1  20  50.0   0.067514  22.509278    0.0   7.876254\n",
            "3          4          1  20  50.0   0.101542  22.808822    0.0  11.742872\n",
            "4          5          1  20  50.0   0.135756  25.355850    0.0  12.234987\n",
            "...      ...        ...  ..   ...        ...        ...    ...        ...\n",
            "15449  15450        283  20  50.0   0.309130   0.975546    0.0   9.633808\n",
            "15450  15451        283  20  50.0   0.343173  12.525554    0.0   9.844714\n",
            "15451  15452        283  20  50.0   0.377175  23.403273    0.0  11.883476\n",
            "15452  15453        283  20  50.0   0.412125  30.654660    0.0  15.187677\n",
            "15453  15454        283  20   NaN        NaN        NaN    NaN        NaN\n",
            "\n",
            "[15454 rows x 8 columns]\n"
          ]
        }
      ],
      "source": [
        "# lendo os dados\n",
        "train_data = pd.read_csv ('train.csv')\n",
        "test_data = pd.read_csv ('test.csv')\n",
        "\n",
        "print(train_data)"
      ]
    },
    {
      "cell_type": "code",
      "source": [
        "# verifica cada um dos atributos\n",
        "for column in train_data.columns:\n",
        "  b_plot = train_data[column].value_counts()\n",
        "  b_plot.plot(kind='pie', autopct='%1.2f%%')\n",
        "  plt.title(column + ' plot')\n",
        "  plt.show()"
      ],
      "metadata": {
        "id": "i1o9ADZH5mB7"
      },
      "execution_count": null,
      "outputs": []
    }
  ]
}